{
 "cells": [
  {
   "cell_type": "code",
   "execution_count": 7,
   "metadata": {},
   "outputs": [],
   "source": [
    "def read_numbers_from_file(file_path):\n",
    "    with open(file_path, 'r') as file:\n",
    "        numbers = [int(line.strip()) for line in file]\n",
    "    return numbers"
   ]
  },
  {
   "cell_type": "code",
   "execution_count": 8,
   "metadata": {},
   "outputs": [],
   "source": [
    "def compare_files(file1_path, file2_path):\n",
    "    numbers1 = read_numbers_from_file(file1_path)\n",
    "    numbers2 = read_numbers_from_file(file2_path)\n",
    "    \n",
    "    total_numbers = min(len(numbers1), len(numbers2))\n",
    "    matching_numbers = sum(1 for num1, num2 in zip(numbers1, numbers2) if num1 == num2)\n",
    "    \n",
    "    accuracy = matching_numbers / total_numbers * 100\n",
    "    return accuracy"
   ]
  },
  {
   "cell_type": "code",
   "execution_count": 9,
   "metadata": {},
   "outputs": [
    {
     "name": "stdout",
     "output_type": "stream",
     "text": [
      "Matching accuracy: 75.73%\n"
     ]
    }
   ],
   "source": [
    "# Example usage\n",
    "file1_path = 'results.txt'\n",
    "file2_path = 'exact.txt'\n",
    "\n",
    "accuracy = compare_files(file1_path, file2_path)\n",
    "print(f\"Matching accuracy: {accuracy:.2f}%\")"
   ]
  }
 ],
 "metadata": {
  "kernelspec": {
   "display_name": "python-cvcourse",
   "language": "python",
   "name": "python3"
  },
  "language_info": {
   "codemirror_mode": {
    "name": "ipython",
    "version": 3
   },
   "file_extension": ".py",
   "mimetype": "text/x-python",
   "name": "python",
   "nbconvert_exporter": "python",
   "pygments_lexer": "ipython3",
   "version": "3.6.6"
  },
  "orig_nbformat": 4
 },
 "nbformat": 4,
 "nbformat_minor": 2
}
