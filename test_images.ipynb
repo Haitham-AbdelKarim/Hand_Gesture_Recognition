{
 "cells": [
  {
   "cell_type": "code",
   "execution_count": 28,
   "metadata": {},
   "outputs": [],
   "source": [
    "import cv2\n",
    "import numpy as np\n",
    "from skimage.feature import hog\n",
    "import os\n",
    "import time\n",
    "import pickle\n"
   ]
  },
  {
   "cell_type": "code",
   "execution_count": 29,
   "metadata": {},
   "outputs": [],
   "source": [
    "def resizeImage(img):\n",
    "    gray = cv2.cvtColor(img, cv2.COLOR_BGR2GRAY)\n",
    "    return cv2.resize(gray , (128 , 64))"
   ]
  },
  {
   "cell_type": "code",
   "execution_count": 30,
   "metadata": {},
   "outputs": [],
   "source": [
    "def extract_hand_segment(image):\n",
    "     # Convert BGR image to YCrCb color space\n",
    "    ycrcb_image = cv2.cvtColor(image, cv2.COLOR_BGR2YCrCb)\n",
    "\n",
    "    # Split the channels\n",
    "    y_channel, cr_channel, cb_channel = cv2.split(ycrcb_image)\n",
    "\n",
    "    # Thresholding to create a binary mask for hand region\n",
    "    _, cr_mask = cv2.threshold(cr_channel, 133, 173, cv2.THRESH_BINARY)\n",
    "    _, cb_mask = cv2.threshold(cb_channel, 77, 127, cv2.THRESH_BINARY)\n",
    "\n",
    "    # Combine the masks\n",
    "    mask = cv2.bitwise_and(cr_mask, cb_mask)\n",
    "    # Find the contours of the object in the mask\n",
    "    _, contours, hierarchy = cv2.findContours(mask, cv2.RETR_TREE, cv2.CHAIN_APPROX_SIMPLE)\n",
    "\n",
    "    # Get the largest contour (which should be the hand)\n",
    "    contour_sizes = [(cv2.contourArea(contour), contour) for contour in contours]\n",
    "    largest_contour = max(contour_sizes, key=lambda x: x[0])[1]\n",
    "\n",
    "    # Create a mask of the hand contour\n",
    "    hand_mask = np.zeros_like(mask)\n",
    "    cv2.drawContours(hand_mask, [largest_contour], 0, 255, cv2.FILLED)\n",
    "\n",
    "    # Dilate the hand mask to fill in any gaps\n",
    "    kernel = np.ones((1, 1), np.uint8)\n",
    "    dilated_mask = cv2.dilate(hand_mask, kernel, iterations=1)\n",
    "\n",
    "    # Apply erosion to reduce the size of the segmented area\n",
    "    kernel = np.ones((1, 1), np.uint8)\n",
    "    eroded_mask = cv2.erode(dilated_mask, kernel, iterations=1)\n",
    "\n",
    "    # Apply the hand mask to the original image to extract the hand\n",
    "    hand_segment = cv2.bitwise_and(image, image, mask=eroded_mask)\n",
    "\n",
    "    # Return the segmented hand image\n",
    "    return hand_segment\n"
   ]
  },
  {
   "cell_type": "code",
   "execution_count": 31,
   "metadata": {},
   "outputs": [
    {
     "name": "stdout",
     "output_type": "stream",
     "text": [
      "60\n"
     ]
    }
   ],
   "source": [
    "# Get the current working directory\n",
    "current_path = os.getcwd()\n",
    "\n",
    "# Folder name containing the images\n",
    "folder_name = 'data'\n",
    "\n",
    "# Construct the folder path\n",
    "folder_path = os.path.join(current_path, folder_name)\n",
    "\n",
    "# Get a list of all files in the folder\n",
    "file_list = os.listdir(folder_path)\n",
    "\n",
    "print(len(file_list))"
   ]
  },
  {
   "cell_type": "code",
   "execution_count": 32,
   "metadata": {},
   "outputs": [],
   "source": [
    "filename = 'model.sav'\n",
    "SVM_Modle = pickle.load(open(filename, 'rb'))\n",
    "lables = []\n",
    "times = []\n",
    "\n",
    "for i in range(1, len(file_list) + 1):\n",
    "    filename = 'data/{}.JPG'.format(i)\n",
    "    img = cv2.imread(filename)\n",
    "    if  img is None:\n",
    "        continue   \n",
    "   \n",
    "    startTime = time.time()\n",
    "\n",
    "    hand_roi = extract_hand_segment(img)\n",
    "    finalImg = resizeImage(hand_roi)\n",
    "    hog_features = hog(finalImg, orientations=12, pixels_per_cell=(12, 12), cells_per_block=(3, 3), block_norm='L2-Hys')\n",
    "\n",
    "    # Reshape hog_features to match SVM model input\n",
    "    hog_features = hog_features.reshape(1, -1)\n",
    "\n",
    "    # Make predictions on the testing set\n",
    "    y_pred = SVM_Modle.predict(hog_features)\n",
    "\n",
    "    totalTime = time.time() - startTime\n",
    "\n",
    "    lables.append(y_pred)\n",
    "    times.append(totalTime)\n",
    "        \n",
    "\n",
    "\n",
    "        "
   ]
  },
  {
   "cell_type": "code",
   "execution_count": 33,
   "metadata": {},
   "outputs": [
    {
     "name": "stdout",
     "output_type": "stream",
     "text": [
      "Content written to results.txt\n"
     ]
    }
   ],
   "source": [
    "# Open a text file in write mode\n",
    "file_path = 'results.txt'\n",
    "with open(file_path, 'w') as file:\n",
    "    for lable in lables:    \n",
    "        file.write(str(lable[0]) + \"\\n\")\n",
    "print('Content written to', file_path)"
   ]
  },
  {
   "cell_type": "code",
   "execution_count": 34,
   "metadata": {},
   "outputs": [
    {
     "name": "stdout",
     "output_type": "stream",
     "text": [
      "Content written to time.txt\n"
     ]
    }
   ],
   "source": [
    "# Open a text file in write mode\n",
    "file_path = 'time.txt'\n",
    "with open(file_path, 'w') as file:\n",
    "    for time in times:    \n",
    "        file.write(str(round(time , 3)) + '\\n')\n",
    "print('Content written to', file_path)"
   ]
  },
  {
   "cell_type": "code",
   "execution_count": null,
   "metadata": {},
   "outputs": [],
   "source": []
  }
 ],
 "metadata": {
  "kernelspec": {
   "display_name": "python-cvcourse",
   "language": "python",
   "name": "python3"
  },
  "language_info": {
   "codemirror_mode": {
    "name": "ipython",
    "version": 3
   },
   "file_extension": ".py",
   "mimetype": "text/x-python",
   "name": "python",
   "nbconvert_exporter": "python",
   "pygments_lexer": "ipython3",
   "version": "3.6.6"
  },
  "orig_nbformat": 4
 },
 "nbformat": 4,
 "nbformat_minor": 2
}
